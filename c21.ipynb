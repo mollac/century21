{
 "cells": [
  {
   "cell_type": "code",
   "execution_count": 1,
   "metadata": {},
   "outputs": [],
   "source": [
    "import requests\n",
    "import math\n",
    "import time\n",
    "from bs4 import BeautifulSoup\n",
    "import pandas as pd\n",
    "from selenium import webdriver"
   ]
  },
  {
   "cell_type": "code",
   "execution_count": null,
   "metadata": {},
   "outputs": [
    {
     "name": "stdout",
     "output_type": "stream",
     "text": [
      "9 page will be processed.\n",
      "PAGE: 1 ITEMS: 100\n",
      "PAGE: 2 ITEMS: 200\n",
      "PAGE: 3 ITEMS: 300\n",
      "PAGE: 4 ITEMS: 400\n"
     ]
    }
   ],
   "source": [
    "url = 'https://www.century21.com/real-estate/new-orleans-la/LCLANEWORLEANS/'\n",
    "\n",
    "driver = webdriver.Chrome()\n",
    "driver.maximize_window()\n",
    "driver.get(url)\n",
    "time.sleep(2)\n",
    "pages = driver.find_element_by_class_name('results-label')\n",
    "pages = math.ceil(int(pages.text.split(' ')[-1][1:-1].replace(',',''))/100)\n",
    "print(f'{pages} page will be processed.')\n",
    "\n",
    "pages = range(1, pages+1)\n",
    "data = []\n",
    "for page in pages:\n",
    "    surl = f'{url}?p={page}'\n",
    "    driver.get(surl)\n",
    "    driver.find_element_by_id('gallery-view-button').click()\n",
    "    time.sleep(2)\n",
    "    for i in range(7):\n",
    "        driver.execute_script(\"window.scrollBy(0, 1000);\")\n",
    "        time.sleep(2)\n",
    "\n",
    "    html = driver.page_source\n",
    "    soup = BeautifulSoup(html, 'html.parser')\n",
    "    all = soup.find_all('div', {'class': 'property-card'})\n",
    "    for item in all:\n",
    "        price = int(item.find(class_ = 'listing-price').text.strip().replace(',','').replace('$',''))\n",
    "        city = item.find(class_ = 'property-city').text.strip().replace(',','').replace('$','')\n",
    "        try:\n",
    "            address = item.find(class_ = 'property-address').text.strip().replace(',','').replace('$','')\n",
    "        except:\n",
    "            address = None\n",
    "        try:\n",
    "            bed_rooms = item.find(class_ = 'property-beds').text.split()[0]\n",
    "        except:\n",
    "            bed_rooms = None        \n",
    "\n",
    "        try:\n",
    "            bath_rooms = item.find(class_ = 'property-baths').text.split()[0]\n",
    "        except:\n",
    "            bath_rooms = None\n",
    "\n",
    "        try:\n",
    "            sqft = int(item.find(class_ = 'property-sqft').text.split()[0].replace(',',''))\n",
    "        except:\n",
    "            sqft = None        \n",
    "\n",
    "        try:\n",
    "            status = item.find(class_ = 'property-image-flag sale-pending').text == 'Sale Pending'\n",
    "        except:\n",
    "            status = False          \n",
    "        data_id = item['data-id']\n",
    "\n",
    "        data.append({'city': city, 'address': address, 'bed_rooms': bed_rooms, 'bath_rooms': bath_rooms, 'area': sqft, 'price': price, 'pending_sale': status})\n",
    "    print(f'PAGE: {page} ITEMS: {len(data)}')\n",
    "driver.close()\n",
    "\n",
    "df = pd.DataFrame(data)\n",
    "df"
   ]
  }
 ],
 "metadata": {
  "kernelspec": {
   "display_name": "Python 3",
   "language": "python",
   "name": "python3"
  },
  "language_info": {
   "codemirror_mode": {
    "name": "ipython",
    "version": 3
   },
   "file_extension": ".py",
   "mimetype": "text/x-python",
   "name": "python",
   "nbconvert_exporter": "python",
   "pygments_lexer": "ipython3",
   "version": "3.7.7"
  }
 },
 "nbformat": 4,
 "nbformat_minor": 2
}
